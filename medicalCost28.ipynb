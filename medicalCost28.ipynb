{
 "cells": [
  {
   "cell_type": "code",
   "execution_count": 3,
   "metadata": {},
   "outputs": [],
   "source": [
    "#Importing modules\n",
    "import numpy as np\n",
    "import pandas as pd\n",
    "import matplotlib.pyplot as plt\n",
    "% matplotlib inline\n",
    "import seaborn as sns"
   ]
  },
  {
   "cell_type": "code",
   "execution_count": 4,
   "metadata": {},
   "outputs": [],
   "source": [
    "#Load the dataset\n",
    "ds = pd.read_csv('/home/lab/Desktop/Assign/mediCost/insurance.csv')"
   ]
  },
  {
   "cell_type": "code",
   "execution_count": 5,
   "metadata": {},
   "outputs": [
    {
     "data": {
      "text/html": [
       "<div>\n",
       "<style scoped>\n",
       "    .dataframe tbody tr th:only-of-type {\n",
       "        vertical-align: middle;\n",
       "    }\n",
       "\n",
       "    .dataframe tbody tr th {\n",
       "        vertical-align: top;\n",
       "    }\n",
       "\n",
       "    .dataframe thead th {\n",
       "        text-align: right;\n",
       "    }\n",
       "</style>\n",
       "<table border=\"1\" class=\"dataframe\">\n",
       "  <thead>\n",
       "    <tr style=\"text-align: right;\">\n",
       "      <th></th>\n",
       "      <th>age</th>\n",
       "      <th>sex</th>\n",
       "      <th>bmi</th>\n",
       "      <th>children</th>\n",
       "      <th>smoker</th>\n",
       "      <th>region</th>\n",
       "      <th>charges</th>\n",
       "    </tr>\n",
       "  </thead>\n",
       "  <tbody>\n",
       "    <tr>\n",
       "      <th>0</th>\n",
       "      <td>19</td>\n",
       "      <td>female</td>\n",
       "      <td>27.900</td>\n",
       "      <td>0</td>\n",
       "      <td>yes</td>\n",
       "      <td>southwest</td>\n",
       "      <td>16884.92400</td>\n",
       "    </tr>\n",
       "    <tr>\n",
       "      <th>1</th>\n",
       "      <td>18</td>\n",
       "      <td>male</td>\n",
       "      <td>33.770</td>\n",
       "      <td>1</td>\n",
       "      <td>no</td>\n",
       "      <td>southeast</td>\n",
       "      <td>1725.55230</td>\n",
       "    </tr>\n",
       "    <tr>\n",
       "      <th>2</th>\n",
       "      <td>28</td>\n",
       "      <td>male</td>\n",
       "      <td>33.000</td>\n",
       "      <td>3</td>\n",
       "      <td>no</td>\n",
       "      <td>southeast</td>\n",
       "      <td>4449.46200</td>\n",
       "    </tr>\n",
       "    <tr>\n",
       "      <th>3</th>\n",
       "      <td>33</td>\n",
       "      <td>male</td>\n",
       "      <td>22.705</td>\n",
       "      <td>0</td>\n",
       "      <td>no</td>\n",
       "      <td>northwest</td>\n",
       "      <td>21984.47061</td>\n",
       "    </tr>\n",
       "    <tr>\n",
       "      <th>4</th>\n",
       "      <td>32</td>\n",
       "      <td>male</td>\n",
       "      <td>28.880</td>\n",
       "      <td>0</td>\n",
       "      <td>no</td>\n",
       "      <td>northwest</td>\n",
       "      <td>3866.85520</td>\n",
       "    </tr>\n",
       "  </tbody>\n",
       "</table>\n",
       "</div>"
      ],
      "text/plain": [
       "   age     sex     bmi  children smoker     region      charges\n",
       "0   19  female  27.900         0    yes  southwest  16884.92400\n",
       "1   18    male  33.770         1     no  southeast   1725.55230\n",
       "2   28    male  33.000         3     no  southeast   4449.46200\n",
       "3   33    male  22.705         0     no  northwest  21984.47061\n",
       "4   32    male  28.880         0     no  northwest   3866.85520"
      ]
     },
     "execution_count": 5,
     "metadata": {},
     "output_type": "execute_result"
    }
   ],
   "source": [
    "#Display first 5 rows of the dataset\n",
    "ds.head(5)"
   ]
  },
  {
   "cell_type": "code",
   "execution_count": 6,
   "metadata": {},
   "outputs": [
    {
     "data": {
      "text/html": [
       "<div>\n",
       "<style scoped>\n",
       "    .dataframe tbody tr th:only-of-type {\n",
       "        vertical-align: middle;\n",
       "    }\n",
       "\n",
       "    .dataframe tbody tr th {\n",
       "        vertical-align: top;\n",
       "    }\n",
       "\n",
       "    .dataframe thead th {\n",
       "        text-align: right;\n",
       "    }\n",
       "</style>\n",
       "<table border=\"1\" class=\"dataframe\">\n",
       "  <thead>\n",
       "    <tr style=\"text-align: right;\">\n",
       "      <th></th>\n",
       "      <th>age</th>\n",
       "      <th>sex</th>\n",
       "      <th>bmi</th>\n",
       "      <th>children</th>\n",
       "      <th>smoker</th>\n",
       "      <th>region</th>\n",
       "      <th>charges</th>\n",
       "    </tr>\n",
       "  </thead>\n",
       "  <tbody>\n",
       "    <tr>\n",
       "      <th>1333</th>\n",
       "      <td>50</td>\n",
       "      <td>male</td>\n",
       "      <td>30.97</td>\n",
       "      <td>3</td>\n",
       "      <td>no</td>\n",
       "      <td>northwest</td>\n",
       "      <td>10600.5483</td>\n",
       "    </tr>\n",
       "    <tr>\n",
       "      <th>1334</th>\n",
       "      <td>18</td>\n",
       "      <td>female</td>\n",
       "      <td>31.92</td>\n",
       "      <td>0</td>\n",
       "      <td>no</td>\n",
       "      <td>northeast</td>\n",
       "      <td>2205.9808</td>\n",
       "    </tr>\n",
       "    <tr>\n",
       "      <th>1335</th>\n",
       "      <td>18</td>\n",
       "      <td>female</td>\n",
       "      <td>36.85</td>\n",
       "      <td>0</td>\n",
       "      <td>no</td>\n",
       "      <td>southeast</td>\n",
       "      <td>1629.8335</td>\n",
       "    </tr>\n",
       "    <tr>\n",
       "      <th>1336</th>\n",
       "      <td>21</td>\n",
       "      <td>female</td>\n",
       "      <td>25.80</td>\n",
       "      <td>0</td>\n",
       "      <td>no</td>\n",
       "      <td>southwest</td>\n",
       "      <td>2007.9450</td>\n",
       "    </tr>\n",
       "    <tr>\n",
       "      <th>1337</th>\n",
       "      <td>61</td>\n",
       "      <td>female</td>\n",
       "      <td>29.07</td>\n",
       "      <td>0</td>\n",
       "      <td>yes</td>\n",
       "      <td>northwest</td>\n",
       "      <td>29141.3603</td>\n",
       "    </tr>\n",
       "  </tbody>\n",
       "</table>\n",
       "</div>"
      ],
      "text/plain": [
       "      age     sex    bmi  children smoker     region     charges\n",
       "1333   50    male  30.97         3     no  northwest  10600.5483\n",
       "1334   18  female  31.92         0     no  northeast   2205.9808\n",
       "1335   18  female  36.85         0     no  southeast   1629.8335\n",
       "1336   21  female  25.80         0     no  southwest   2007.9450\n",
       "1337   61  female  29.07         0    yes  northwest  29141.3603"
      ]
     },
     "execution_count": 6,
     "metadata": {},
     "output_type": "execute_result"
    }
   ],
   "source": [
    "#Display the last 5 rows of the dataset\n",
    "ds.tail(5)"
   ]
  },
  {
   "cell_type": "code",
   "execution_count": 75,
   "metadata": {},
   "outputs": [
    {
     "data": {
      "text/plain": [
       "(1338, 7)"
      ]
     },
     "execution_count": 75,
     "metadata": {},
     "output_type": "execute_result"
    }
   ],
   "source": [
    "#Getting total number of rows and number of columns\n",
    "ds.shape"
   ]
  },
  {
   "cell_type": "code",
   "execution_count": 72,
   "metadata": {},
   "outputs": [
    {
     "data": {
      "text/html": [
       "<div>\n",
       "<style scoped>\n",
       "    .dataframe tbody tr th:only-of-type {\n",
       "        vertical-align: middle;\n",
       "    }\n",
       "\n",
       "    .dataframe tbody tr th {\n",
       "        vertical-align: top;\n",
       "    }\n",
       "\n",
       "    .dataframe thead th {\n",
       "        text-align: right;\n",
       "    }\n",
       "</style>\n",
       "<table border=\"1\" class=\"dataframe\">\n",
       "  <thead>\n",
       "    <tr style=\"text-align: right;\">\n",
       "      <th></th>\n",
       "      <th>age</th>\n",
       "      <th>sex</th>\n",
       "      <th>bmi</th>\n",
       "      <th>children</th>\n",
       "      <th>smoker</th>\n",
       "      <th>region</th>\n",
       "      <th>charges</th>\n",
       "    </tr>\n",
       "  </thead>\n",
       "  <tbody>\n",
       "    <tr>\n",
       "      <th>count</th>\n",
       "      <td>1338.000000</td>\n",
       "      <td>1338.000000</td>\n",
       "      <td>1338.000000</td>\n",
       "      <td>1338.000000</td>\n",
       "      <td>1338.000000</td>\n",
       "      <td>1338.000000</td>\n",
       "      <td>1338.000000</td>\n",
       "    </tr>\n",
       "    <tr>\n",
       "      <th>mean</th>\n",
       "      <td>39.207025</td>\n",
       "      <td>0.505232</td>\n",
       "      <td>30.663397</td>\n",
       "      <td>1.094918</td>\n",
       "      <td>0.204783</td>\n",
       "      <td>1.515695</td>\n",
       "      <td>13270.422265</td>\n",
       "    </tr>\n",
       "    <tr>\n",
       "      <th>std</th>\n",
       "      <td>14.049960</td>\n",
       "      <td>0.500160</td>\n",
       "      <td>6.098187</td>\n",
       "      <td>1.205493</td>\n",
       "      <td>0.403694</td>\n",
       "      <td>1.104885</td>\n",
       "      <td>12110.011237</td>\n",
       "    </tr>\n",
       "    <tr>\n",
       "      <th>min</th>\n",
       "      <td>18.000000</td>\n",
       "      <td>0.000000</td>\n",
       "      <td>15.960000</td>\n",
       "      <td>0.000000</td>\n",
       "      <td>0.000000</td>\n",
       "      <td>0.000000</td>\n",
       "      <td>1121.873900</td>\n",
       "    </tr>\n",
       "    <tr>\n",
       "      <th>25%</th>\n",
       "      <td>27.000000</td>\n",
       "      <td>0.000000</td>\n",
       "      <td>26.296250</td>\n",
       "      <td>0.000000</td>\n",
       "      <td>0.000000</td>\n",
       "      <td>1.000000</td>\n",
       "      <td>4740.287150</td>\n",
       "    </tr>\n",
       "    <tr>\n",
       "      <th>50%</th>\n",
       "      <td>39.000000</td>\n",
       "      <td>1.000000</td>\n",
       "      <td>30.400000</td>\n",
       "      <td>1.000000</td>\n",
       "      <td>0.000000</td>\n",
       "      <td>2.000000</td>\n",
       "      <td>9382.033000</td>\n",
       "    </tr>\n",
       "    <tr>\n",
       "      <th>75%</th>\n",
       "      <td>51.000000</td>\n",
       "      <td>1.000000</td>\n",
       "      <td>34.693750</td>\n",
       "      <td>2.000000</td>\n",
       "      <td>0.000000</td>\n",
       "      <td>2.000000</td>\n",
       "      <td>16639.912515</td>\n",
       "    </tr>\n",
       "    <tr>\n",
       "      <th>max</th>\n",
       "      <td>64.000000</td>\n",
       "      <td>1.000000</td>\n",
       "      <td>53.130000</td>\n",
       "      <td>5.000000</td>\n",
       "      <td>1.000000</td>\n",
       "      <td>3.000000</td>\n",
       "      <td>63770.428010</td>\n",
       "    </tr>\n",
       "  </tbody>\n",
       "</table>\n",
       "</div>"
      ],
      "text/plain": [
       "               age          sex          bmi     children       smoker  \\\n",
       "count  1338.000000  1338.000000  1338.000000  1338.000000  1338.000000   \n",
       "mean     39.207025     0.505232    30.663397     1.094918     0.204783   \n",
       "std      14.049960     0.500160     6.098187     1.205493     0.403694   \n",
       "min      18.000000     0.000000    15.960000     0.000000     0.000000   \n",
       "25%      27.000000     0.000000    26.296250     0.000000     0.000000   \n",
       "50%      39.000000     1.000000    30.400000     1.000000     0.000000   \n",
       "75%      51.000000     1.000000    34.693750     2.000000     0.000000   \n",
       "max      64.000000     1.000000    53.130000     5.000000     1.000000   \n",
       "\n",
       "            region       charges  \n",
       "count  1338.000000   1338.000000  \n",
       "mean      1.515695  13270.422265  \n",
       "std       1.104885  12110.011237  \n",
       "min       0.000000   1121.873900  \n",
       "25%       1.000000   4740.287150  \n",
       "50%       2.000000   9382.033000  \n",
       "75%       2.000000  16639.912515  \n",
       "max       3.000000  63770.428010  "
      ]
     },
     "execution_count": 72,
     "metadata": {},
     "output_type": "execute_result"
    }
   ],
   "source": [
    "#Description about data columns\n",
    "ds.describe()"
   ]
  },
  {
   "cell_type": "code",
   "execution_count": 73,
   "metadata": {},
   "outputs": [
    {
     "name": "stdout",
     "output_type": "stream",
     "text": [
      "<class 'pandas.core.frame.DataFrame'>\n",
      "RangeIndex: 1338 entries, 0 to 1337\n",
      "Data columns (total 7 columns):\n",
      "age         1338 non-null int64\n",
      "sex         1338 non-null int64\n",
      "bmi         1338 non-null float64\n",
      "children    1338 non-null int64\n",
      "smoker      1338 non-null int64\n",
      "region      1338 non-null int64\n",
      "charges     1338 non-null float64\n",
      "dtypes: float64(2), int64(5)\n",
      "memory usage: 73.2 KB\n"
     ]
    }
   ],
   "source": [
    "#Column information (Number of instances, Null/NotNull, Datatype)\n",
    "ds.info()"
   ]
  },
  {
   "cell_type": "code",
   "execution_count": 12,
   "metadata": {},
   "outputs": [
    {
     "name": "stdout",
     "output_type": "stream",
     "text": [
      "region\n",
      "northeast    324\n",
      "northwest    325\n",
      "southeast    364\n",
      "southwest    325\n",
      "dtype: int64\n"
     ]
    }
   ],
   "source": [
    "#Grouping insurance beneficiaries based on their place of residency\n",
    "region = ds.groupby(by = 'region').size()\n",
    "print(region)"
   ]
  },
  {
   "cell_type": "code",
   "execution_count": 9,
   "metadata": {},
   "outputs": [
    {
     "data": {
      "text/plain": [
       "<matplotlib.axes._subplots.AxesSubplot at 0x7f7f8126d940>"
      ]
     },
     "execution_count": 9,
     "metadata": {},
     "output_type": "execute_result"
    },
    {
     "data": {
      "image/png": "[encoded data removed]",
      "text/plain": [
       "<matplotlib.figure.Figure at 0x7f7f8126d5f8>"
      ]
     },
     "metadata": {},
     "output_type": "display_data"
    }
   ],
   "source": [
    "#plot in a bar chart\n",
    "plt.xlabel(\"region\")\n",
    "region.plot(kind = 'bar',fontsize=14)"
   ]
  },
  {
   "cell_type": "code",
   "execution_count": 10,
   "metadata": {},
   "outputs": [
    {
     "name": "stdout",
     "output_type": "stream",
     "text": [
      "smoker\n",
      "no     1064\n",
      "yes     274\n",
      "dtype: int64\n"
     ]
    }
   ],
   "source": [
    "#Group insurance beneficiaries by the attribute smoking tobacco\n",
    "smoker = ds.groupby(by = 'smoker').size()\n",
    "print(smoker)"
   ]
  },
  {
   "cell_type": "code",
   "execution_count": 11,
   "metadata": {},
   "outputs": [
    {
     "data": {
      "text/plain": [
       "<matplotlib.axes._subplots.AxesSubplot at 0x7f7f78d34588>"
      ]
     },
     "execution_count": 11,
     "metadata": {},
     "output_type": "execute_result"
    },
    {
     "data": {
      "image/png": "[encoded data removed]",
      "text/plain": [
       "<matplotlib.figure.Figure at 0x7f7f78c9d6d8>"
      ]
     },
     "metadata": {},
     "output_type": "display_data"
    }
   ],
   "source": [
    "#Plot the number of smokers and non-smokers in a bar chart.\n",
    "plt.figure(figsize=(6,6))\n",
    "smoker.plot(kind = 'bar',fontsize=14)"
   ]
  },
  {
   "cell_type": "code",
   "execution_count": 10,
   "metadata": {},
   "outputs": [
    {
     "name": "stdout",
     "output_type": "stream",
     "text": [
      "sex\n",
      "female    662\n",
      "male      676\n",
      "dtype: int64\n"
     ]
    }
   ],
   "source": [
    "#Group people by gender\n",
    "sex = ds.groupby(by = 'sex').size()\n",
    "print(sex)"
   ]
  },
  {
   "cell_type": "code",
   "execution_count": 18,
   "metadata": {},
   "outputs": [
    {
     "data": {
      "text/plain": [
       "<matplotlib.axes._subplots.AxesSubplot at 0x7ff17e093d30>"
      ]
     },
     "execution_count": 18,
     "metadata": {},
     "output_type": "execute_result"
    },
    {
     "data": {
      "image/png": "[encoded data removed]",
      "text/plain": [
       "<matplotlib.figure.Figure at 0x7ff17e0776a0>"
      ]
     },
     "metadata": {},
     "output_type": "display_data"
    }
   ],
   "source": [
    "#Pie chart to visulaize which gender owns a higher medical cost.\n",
    "plt.figure(figsize=(6,6))\n",
    "ds.groupby(by = \"sex\")[\"charges\"].mean().plot(kind = 'pie',colormap='viridis')"
   ]
  },
  {
   "cell_type": "code",
   "execution_count": 74,
   "metadata": {},
   "outputs": [
    {
     "data": {
      "text/plain": [
       "<matplotlib.axes._subplots.AxesSubplot at 0x7f7f75aa4080>"
      ]
     },
     "execution_count": 74,
     "metadata": {},
     "output_type": "execute_result"
    },
    {
     "data": {
      "image/png": "[encoded data removed]",
      "text/plain": [
       "<matplotlib.figure.Figure at 0x7f7f75aa4048>"
      ]
     },
     "metadata": {},
     "output_type": "display_data"
    }
   ],
   "source": [
    "#Pie chart to visualize who owns highr medical costs (Smokers / Non-smokers)\n",
    "plt.figure(figsize=(6,6))\n",
    "ds.groupby(by = \"smoker\")[\"charges\"].mean().plot(kind = 'pie',colormap='Purples')"
   ]
  },
  {
   "cell_type": "code",
   "execution_count": 19,
   "metadata": {},
   "outputs": [
    {
     "name": "stderr",
     "output_type": "stream",
     "text": [
      "/home/lab/anaconda3/lib/python3.6/site-packages/sklearn/cross_validation.py:41: DeprecationWarning: This module was deprecated in version 0.18 in favor of the model_selection module into which all the refactored classes and functions are moved. Also note that the interface of the new CV iterators are different from that of this module. This module will be removed in 0.20.\n",
      "  \"This module will be removed in 0.20.\", DeprecationWarning)\n"
     ]
    }
   ],
   "source": [
    "#Code for Regression Analysis.\n",
    "from sklearn.linear_model import LinearRegression\n",
    "from sklearn import cross_validation\n",
    "\n",
    "\n",
    "ds['smoker'] = pd.get_dummies(ds['smoker'])\n",
    "ds['region'] = pd.get_dummies(ds['region'])\n",
    "ds['sex'] = pd.get_dummies(ds['sex'])\n",
    "\n",
    "\n",
    "X = ds.drop('charges', axis=1)\n",
    "Y = ds['charges']\n",
    "X_train,X_test,Y_train,Y_test = cross_validation.train_test_split(X,Y,test_size=0.2)\n",
    "\n",
    "re = LinearRegression()\n",
    "f = re.fit(X_train, Y_train)"
   ]
  },
  {
   "cell_type": "code",
   "execution_count": 20,
   "metadata": {},
   "outputs": [],
   "source": [
    "Y_pred = re.predict(X_test)"
   ]
  },
  {
   "cell_type": "code",
   "execution_count": 22,
   "metadata": {},
   "outputs": [
    {
     "data": {
      "text/plain": [
       "array([30164.19691581,  9288.81793084, 13059.94612411, 11262.80734407,\n",
       "        -424.1277466 , 13264.72079285,  6323.57863415, 15816.81845046,\n",
       "       37982.07673783,  1753.60935379, 36461.28177222,  5457.77301437,\n",
       "        3412.78633917,  8744.61612189, 33320.30638721, 33292.21748719,\n",
       "        6591.99166784,  8598.82055489, 36281.95900327,  5441.84260782,\n",
       "       33666.68873658,   722.76020507, 35872.91021099, 30333.01574768,\n",
       "        1241.93431973, 12413.31161745,  5809.99871609,  6981.64940004,\n",
       "       11582.90988193, 35199.84658319, 15732.40675367,  4405.17787418,\n",
       "       31002.13829589, 10867.70398732,  2563.35390259, 10748.27399829,\n",
       "         812.16846804,  5776.67402801,  1503.86448517, 16159.52354618,\n",
       "        7760.2531162 ,  5131.15160862,  9617.97980373, 13130.61071767,\n",
       "        8730.69396889,  2695.76842315,  6282.05794105, 10534.57179225,\n",
       "        9837.64127677, 13444.69551418,  8655.65765488,  6714.70799823,\n",
       "        9716.21516996,  4047.10742176,  1327.0550767 , 14699.95148726,\n",
       "       32240.26315262,  9311.12496259, 31124.02111195, 12975.00041689,\n",
       "       14268.62456675,  6018.79070634,  3126.91646978, 36202.10051207,\n",
       "       30995.11865233,  2319.58304798, 27844.89953261,  9981.03207532,\n",
       "       11956.40368349,  5209.16710923, 12349.60223306,  9621.44233092,\n",
       "        3496.85308472, 30672.69262758, 11546.72622136, 30628.62713609,\n",
       "        6912.32195258, 14230.65926343, 17381.78496518,  9764.8467404 ,\n",
       "        8600.73749784,  6107.95948516, 17319.41338763,  7827.26725946,\n",
       "       10577.26991263, 18506.86120523,  1663.53707949, 11208.46183824,\n",
       "        8380.92296786,  6233.81336098,  2421.97510491,  5773.86084196,\n",
       "       14186.80287084, 10337.51303072, 10904.15709479,  9521.70194441,\n",
       "       13184.23999036,  8975.56844549, 33276.49886761,  7963.96285064,\n",
       "       12609.1619891 , 11959.6300051 , 36754.12436266,  4234.41440875,\n",
       "        7440.28065606, 13483.06107971,  4877.65659326, 11823.51608443,\n",
       "       -1469.03287335, 14958.6219427 ,  9803.30622777,  9333.34020841,\n",
       "       16307.39098673,  7378.2097185 ,  8508.24773799,  4116.18774078,\n",
       "        2165.84390372,   360.83549877, 11609.081839  ,  2365.92069579,\n",
       "        7428.99542647, 15266.6369297 , 39320.67810687,  7106.61378981,\n",
       "        8913.34805123, 16612.81776967,  4653.20398246, 10164.59005163,\n",
       "        7290.23252345,  6552.55473264,  4514.57670131,  8224.97820184,\n",
       "        2950.60050778,  4317.12672678, 29024.76218149, 28303.88552668,\n",
       "       11899.62637937,  5022.47397484,  8150.34402369,  6375.91140153,\n",
       "       12340.7237224 ,  9977.56693689,  1913.31158918,  6702.01467993,\n",
       "       27260.00933199, 12398.05044471,  5535.74233004,  2870.77165766,\n",
       "       34764.61108683,   232.8099801 , 15665.30894808, 30508.33756436,\n",
       "       13153.27502187, 11846.70999099,  5897.15810528, 10905.35405729,\n",
       "        6677.81520066, 10922.35583351,  3777.37386264,  7563.86285089,\n",
       "       12849.03868662,  3148.2872784 , 10996.01631114, 37260.93992758,\n",
       "        7535.0868835 , 28438.62279655, 31148.0096889 ,  7113.75504581,\n",
       "       40063.76364895, 37591.97622898,  3844.48575448, 12139.14393077,\n",
       "       33352.93653165,  6355.27002106, 11967.973107  , 10892.8673803 ,\n",
       "       15396.91124533,  4359.68579965, 33639.17963342,  6120.72270519,\n",
       "       10892.64224467, 11463.74754297,  9731.65775101, 23581.85986016,\n",
       "        -142.52607448, 15874.14899691, 31325.10020473,  6233.59571997,\n",
       "        9066.37544725, 35770.28209556,  4824.92169001,  1830.97176594,\n",
       "       26630.58250529, 15727.94754674, 27161.68118   , 12919.45794856,\n",
       "        9716.21965486,  4168.18791656,  9041.64188074, 11673.87839933,\n",
       "        8292.83971521, 13442.73352238, 28506.25663987,  9993.22568378,\n",
       "       12427.40815944,  2977.75822171, 18920.20695122, 27742.49085502,\n",
       "        9671.72253348,  1300.51323609, 16252.8747624 , 24493.58984511,\n",
       "        3999.03170489, 31276.20367228, 10498.83613081, 12893.26749717,\n",
       "         129.42311709, 15815.83456725, 27595.8625881 ,  5414.8960201 ,\n",
       "       10954.96494922,  9089.65879075, 27118.97166143, -1251.54003343,\n",
       "        9808.8368812 , 10210.53964981,  5714.34691538, 17200.36711697,\n",
       "        3809.95782216, 33609.55555834,  6791.59358458, -1155.84318386,\n",
       "        9496.04925076,   682.16238642,  -564.79740728, 13747.84768322,\n",
       "        9411.68267964, 11687.02338725, 25788.01779139,  7384.41147938,\n",
       "       11125.66008327,  9010.96297983,  6701.56374789,  7969.8338936 ,\n",
       "       31446.4516216 , 27494.1447252 , 10254.88827597,  9702.11862798,\n",
       "       11459.46151214,  4982.85360402,  9803.48249042,  6391.40863278,\n",
       "       11169.56144788,  9976.13969309, 12008.03496474, 13894.40118338,\n",
       "       10615.0988565 , 30815.0249298 , 15615.90723188, 12921.63871745,\n",
       "        7844.30511474, 15195.96777443,  8430.53385979, 15240.43547861,\n",
       "       10152.92604552, 30651.77275099, 32662.31122344,  5354.12158784])"
      ]
     },
     "execution_count": 22,
     "metadata": {},
     "output_type": "execute_result"
    }
   ],
   "source": [
    "Y_pred"
   ]
  },
  {
   "cell_type": "code",
   "execution_count": 68,
   "metadata": {},
   "outputs": [
    {
     "data": {
      "text/plain": [
       "<matplotlib.axes._subplots.AxesSubplot at 0x7f7f75bb25c0>"
      ]
     },
     "execution_count": 68,
     "metadata": {},
     "output_type": "execute_result"
    },
    {
     "data": {
      "image/png": "[encoded data removed]",
      "text/plain": [
       "<matplotlib.figure.Figure at 0x7f7f78c62630>"
      ]
     },
     "metadata": {},
     "output_type": "display_data"
    }
   ],
   "source": [
    "#Convert non-numerical variales to numerical variables and generate heatmap to evaluate the correlation\n",
    "from sklearn.preprocessing import LabelEncoder\n",
    "lbl = LabelEncoder()\n",
    "lbl.fit(list(ds['sex'].values)) \n",
    "ds['sex'] = lbl.transform(list(ds['sex'].values))\n",
    "\n",
    "lbl.fit(list(ds['smoker'].values)) \n",
    "ds['smoker'] = lbl.transform(list(ds['smoker'].values))\n",
    "\n",
    "lbl.fit(list(ds['region'].values)) \n",
    "ds['region'] = lbl.transform(list(ds['region'].values))\n",
    "\n",
    "f,ax = plt.subplots(figsize=(8, 8))\n",
    "sns.heatmap(ds.corr(), annot=True, linewidths=.5, fmt= '.1f',ax=ax)"
   ]
  }
 ],
 "metadata": {
  "kernelspec": {
   "display_name": "Python 3",
   "language": "python",
   "name": "python3"
  },
  "language_info": {
   "codemirror_mode": {
    "name": "ipython",
    "version": 3
   },
   "file_extension": ".py",
   "mimetype": "text/x-python",
   "name": "python",
   "nbconvert_exporter": "python",
   "pygments_lexer": "ipython3",
   "version": "3.6.4"
  }
 },
 "nbformat": 4,
 "nbformat_minor": 2
}
